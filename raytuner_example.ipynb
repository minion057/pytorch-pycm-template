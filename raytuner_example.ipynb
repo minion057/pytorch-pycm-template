{
 "cells": [
  {
   "cell_type": "markdown",
   "id": "df916258",
   "metadata": {},
   "source": [
    "# You must be in the `pytorch-pycm-template` folder to run raytune. Please move the file location.\n",
    "\n",
    "```   \n",
    "pytorch-pycm-template  \n",
    "L raytuner.ipynb    \n",
    "```   "
   ]
  },
  {
   "cell_type": "markdown",
   "id": "0eb9a009-f257-4345-b1ea-d1a2026e0c84",
   "metadata": {},
   "source": [
    "# 0. Set up preparation\n",
    "## Auto-Reload"
   ]
  },
  {
   "cell_type": "code",
   "execution_count": 1,
   "id": "d2d49dfe-ebc5-4783-81cf-aacf5f11888b",
   "metadata": {
    "tags": []
   },
   "outputs": [],
   "source": [
    "%load_ext autoreload\n",
    "%autoreload 2\n",
    "# 파이썬 코드를 실행하기 전에 항상 모든 모듈을 Reload"
   ]
  },
  {
   "cell_type": "markdown",
   "id": "c9586dff",
   "metadata": {},
   "source": [
    "## Change items"
   ]
  },
  {
   "cell_type": "code",
   "execution_count": 3,
   "id": "d2b64158",
   "metadata": {},
   "outputs": [],
   "source": [
    "from functools import partial\n",
    "import ray\n",
    "from ray import tune as raytune\n",
    "from ray.tune.schedulers import ASHAScheduler\n",
    "from ray.train import get_checkpoint"
   ]
  },
  {
   "cell_type": "code",
   "execution_count": 4,
   "id": "81ddd559",
   "metadata": {},
   "outputs": [
    {
     "name": "stderr",
     "output_type": "stream",
     "text": [
      "2025-01-17 10:18:22,041\tINFO worker.py:1812 -- Started a local Ray instance. View the dashboard at \u001b[1m\u001b[32m127.0.0.1:1130 \u001b[39m\u001b[22m\n"
     ]
    },
    {
     "data": {
      "application/vnd.jupyter.widget-view+json": {
       "model_id": "72504ea9e7d146ad88ba5e66e1294c06",
       "version_major": 2,
       "version_minor": 0
      },
      "text/html": [
       "<div class=\"lm-Widget p-Widget lm-Panel p-Panel jp-Cell-outputWrapper\">\n",
       "    <div style=\"margin-left: 50px;display: flex;flex-direction: row;align-items: center\">\n",
       "        <div class=\"jp-RenderedHTMLCommon\" style=\"display: flex; flex-direction: row;\">\n",
       "  <svg viewBox=\"0 0 567 224\" fill=\"none\" xmlns=\"http://www.w3.org/2000/svg\" style=\"height: 3em;\">\n",
       "    <g clip-path=\"url(#clip0_4338_178347)\">\n",
       "        <path d=\"M341.29 165.561H355.29L330.13 129.051C345.63 123.991 354.21 112.051 354.21 94.2307C354.21 71.3707 338.72 58.1807 311.88 58.1807H271V165.561H283.27V131.661H311.8C314.25 131.661 316.71 131.501 319.01 131.351L341.25 165.561H341.29ZM283.29 119.851V70.0007H311.82C331.3 70.0007 342.34 78.2907 342.34 94.5507C342.34 111.271 331.34 119.861 311.82 119.861L283.29 119.851ZM451.4 138.411L463.4 165.561H476.74L428.74 58.1807H416L367.83 165.561H380.83L392.83 138.411H451.4ZM446.19 126.601H398L422 72.1407L446.24 126.601H446.19ZM526.11 128.741L566.91 58.1807H554.35L519.99 114.181L485.17 58.1807H472.44L514.01 129.181V165.541H526.13V128.741H526.11Z\" fill=\"var(--jp-ui-font-color0)\"/>\n",
       "        <path d=\"M82.35 104.44C84.0187 97.8827 87.8248 92.0678 93.1671 87.9146C98.5094 83.7614 105.083 81.5067 111.85 81.5067C118.617 81.5067 125.191 83.7614 130.533 87.9146C135.875 92.0678 139.681 97.8827 141.35 104.44H163.75C164.476 101.562 165.622 98.8057 167.15 96.2605L127.45 56.5605C121.071 60.3522 113.526 61.6823 106.235 60.3005C98.9443 58.9187 92.4094 54.9203 87.8602 49.0574C83.3109 43.1946 81.0609 35.8714 81.5332 28.4656C82.0056 21.0599 85.1679 14.0819 90.4252 8.8446C95.6824 3.60726 102.672 0.471508 110.08 0.0272655C117.487 -0.416977 124.802 1.86091 130.647 6.4324C136.493 11.0039 140.467 17.5539 141.821 24.8501C143.175 32.1463 141.816 39.6859 138 46.0505L177.69 85.7505C182.31 82.9877 187.58 81.4995 192.962 81.4375C198.345 81.3755 203.648 82.742 208.33 85.3976C213.012 88.0532 216.907 91.9029 219.616 96.5544C222.326 101.206 223.753 106.492 223.753 111.875C223.753 117.258 222.326 122.545 219.616 127.197C216.907 131.848 213.012 135.698 208.33 138.353C203.648 141.009 198.345 142.375 192.962 142.313C187.58 142.251 182.31 140.763 177.69 138L138 177.7C141.808 184.071 143.155 191.614 141.79 198.91C140.424 206.205 136.44 212.75 130.585 217.313C124.731 221.875 117.412 224.141 110.004 223.683C102.596 223.226 95.6103 220.077 90.3621 214.828C85.1139 209.58 81.9647 202.595 81.5072 195.187C81.0497 187.779 83.3154 180.459 87.878 174.605C92.4405 168.751 98.9853 164.766 106.281 163.401C113.576 162.035 121.119 163.383 127.49 167.19L167.19 127.49C165.664 124.941 164.518 122.182 163.79 119.3H141.39C139.721 125.858 135.915 131.673 130.573 135.826C125.231 139.98 118.657 142.234 111.89 142.234C105.123 142.234 98.5494 139.98 93.2071 135.826C87.8648 131.673 84.0587 125.858 82.39 119.3H60C58.1878 126.495 53.8086 132.78 47.6863 136.971C41.5641 141.163 34.1211 142.972 26.7579 142.059C19.3947 141.146 12.6191 137.574 7.70605 132.014C2.79302 126.454 0.0813599 119.29 0.0813599 111.87C0.0813599 104.451 2.79302 97.2871 7.70605 91.7272C12.6191 86.1673 19.3947 82.5947 26.7579 81.6817C34.1211 80.7686 41.5641 82.5781 47.6863 86.7696C53.8086 90.9611 58.1878 97.2456 60 104.44H82.35ZM100.86 204.32C103.407 206.868 106.759 208.453 110.345 208.806C113.93 209.159 117.527 208.258 120.522 206.256C123.517 204.254 125.725 201.276 126.771 197.828C127.816 194.38 127.633 190.677 126.253 187.349C124.874 184.021 122.383 181.274 119.205 179.577C116.027 177.88 112.359 177.337 108.826 178.042C105.293 178.746 102.113 180.654 99.8291 183.44C97.5451 186.226 96.2979 189.718 96.3 193.32C96.2985 195.364 96.7006 197.388 97.4831 199.275C98.2656 201.163 99.4132 202.877 100.86 204.32ZM204.32 122.88C206.868 120.333 208.453 116.981 208.806 113.396C209.159 109.811 208.258 106.214 206.256 103.219C204.254 100.223 201.275 98.0151 197.827 96.97C194.38 95.9249 190.676 96.1077 187.348 97.4873C184.02 98.8669 181.274 101.358 179.577 104.536C177.879 107.714 177.337 111.382 178.041 114.915C178.746 118.448 180.653 121.627 183.439 123.911C186.226 126.195 189.717 127.443 193.32 127.44C195.364 127.443 197.388 127.042 199.275 126.259C201.163 125.476 202.878 124.328 204.32 122.88ZM122.88 19.4205C120.333 16.8729 116.981 15.2876 113.395 14.9347C109.81 14.5817 106.213 15.483 103.218 17.4849C100.223 19.4868 98.0146 22.4654 96.9696 25.9131C95.9245 29.3608 96.1073 33.0642 97.4869 36.3922C98.8665 39.7202 101.358 42.4668 104.535 44.1639C107.713 45.861 111.381 46.4036 114.914 45.6992C118.447 44.9949 121.627 43.0871 123.911 40.301C126.195 37.515 127.442 34.0231 127.44 30.4205C127.44 28.3772 127.038 26.3539 126.255 24.4664C125.473 22.5788 124.326 20.8642 122.88 19.4205ZM19.42 100.86C16.8725 103.408 15.2872 106.76 14.9342 110.345C14.5813 113.93 15.4826 117.527 17.4844 120.522C19.4863 123.518 22.4649 125.726 25.9127 126.771C29.3604 127.816 33.0638 127.633 36.3918 126.254C39.7198 124.874 42.4664 122.383 44.1635 119.205C45.8606 116.027 46.4032 112.359 45.6988 108.826C44.9944 105.293 43.0866 102.114 40.3006 99.8296C37.5145 97.5455 34.0227 96.2983 30.42 96.3005C26.2938 96.3018 22.337 97.9421 19.42 100.86ZM100.86 100.86C98.3125 103.408 96.7272 106.76 96.3742 110.345C96.0213 113.93 96.9226 117.527 98.9244 120.522C100.926 123.518 103.905 125.726 107.353 126.771C110.8 127.816 114.504 127.633 117.832 126.254C121.16 124.874 123.906 122.383 125.604 119.205C127.301 116.027 127.843 112.359 127.139 108.826C126.434 105.293 124.527 102.114 121.741 99.8296C118.955 97.5455 115.463 96.2983 111.86 96.3005C109.817 96.299 107.793 96.701 105.905 97.4835C104.018 98.2661 102.303 99.4136 100.86 100.86Z\" fill=\"#00AEEF\"/>\n",
       "    </g>\n",
       "    <defs>\n",
       "        <clipPath id=\"clip0_4338_178347\">\n",
       "            <rect width=\"566.93\" height=\"223.75\" fill=\"white\"/>\n",
       "        </clipPath>\n",
       "    </defs>\n",
       "  </svg>\n",
       "</div>\n",
       "\n",
       "        <table class=\"jp-RenderedHTMLCommon\" style=\"border-collapse: collapse;color: var(--jp-ui-font-color1);font-size: var(--jp-ui-font-size1);\">\n",
       "    <tr>\n",
       "        <td style=\"text-align: left\"><b>Python version:</b></td>\n",
       "        <td style=\"text-align: left\"><b>3.10.12</b></td>\n",
       "    </tr>\n",
       "    <tr>\n",
       "        <td style=\"text-align: left\"><b>Ray version:</b></td>\n",
       "        <td style=\"text-align: left\"><b>2.40.0</b></td>\n",
       "    </tr>\n",
       "    <tr>\n",
       "    <td style=\"text-align: left\"><b>Dashboard:</b></td>\n",
       "    <td style=\"text-align: left\"><b><a href=\"http://127.0.0.1:1130\" target=\"_blank\">http://127.0.0.1:1130</a></b></td>\n",
       "</tr>\n",
       "\n",
       "</table>\n",
       "\n",
       "    </div>\n",
       "</div>\n"
      ],
      "text/plain": [
       "RayContext(dashboard_url='127.0.0.1:1130', python_version='3.10.12', ray_version='2.40.0', ray_commit='22541c38dbef25286cd6d19f1c151bf4fd62f2ed')"
      ]
     },
     "execution_count": 4,
     "metadata": {},
     "output_type": "execute_result"
    }
   ],
   "source": [
    "module_dir = 'your workspace directory' \n",
    "config_path = 'train config file path' \n",
    "\n",
    "# raytune setting\n",
    "tmp_dir = 'raytune save dir'\n",
    "resources_per_trial = {\"cpu\": 4, \"gpu\":1}\n",
    "MAXEPOCHS = 10\n",
    "raytune_trial_num = 2\n",
    "\n",
    "ray_tune_config = {\n",
    "    \"batch_size\": raytune.choice([8, 16, 32, 64, 128, 512]),\n",
    "    \"dropout\": raytune.choice([0, 0.1, 0.2, 0.3, 0.4, 0.5]),\n",
    "    \"loss\": raytune.choice(['ce_loss', 'bce_loss']),\n",
    "    \"otimp\": raytune.choice(['AdamW', 'Lamb', 'Lion']),\n",
    "    \"lr\": raytune.loguniform(1e-4, 1e-1),\n",
    "    \"weight_decay\": raytune.choice([0, 0.1, 0.2, 0.3, 0.4, 0.5])\n",
    "}\n",
    "\n",
    "ray.init(dashboard_host='127.0.0.1', dashboard_port=1130, num_cpus=8, num_gpus=2)"
   ]
  },
  {
   "cell_type": "markdown",
   "id": "d8b591b3",
   "metadata": {},
   "source": [
    "## Import workspace"
   ]
  },
  {
   "cell_type": "code",
   "execution_count": null,
   "id": "a7622416-9f2b-4b5c-a53d-5e8f7e39cf03",
   "metadata": {},
   "outputs": [],
   "source": [
    "import os\n",
    "import sys\n",
    "os.environ[\"CUDA_DEVICE_ORDER\"]=\"PCI_BUS_ID\"\n",
    "\n",
    "sys.path.append(module_dir)\n",
    "print(sys.path[-1])"
   ]
  },
  {
   "cell_type": "code",
   "execution_count": 6,
   "id": "80117350-408e-4149-81e4-da26965e4297",
   "metadata": {},
   "outputs": [],
   "source": [
    "import argparse\n",
    "import collections\n",
    "import torch\n",
    "import numpy as np\n",
    "\n",
    "from torchinfo import summary\n",
    "import model.model as module_arch\n",
    "\n",
    "from torchvision import transforms\n",
    "import data_loader.transforms as module_transforms\n",
    "import data_loader.npz_loaders as module_data\n",
    "import model.optim as module_optim\n",
    "import model.lr_scheduler as module_lr_scheduler\n",
    "import model.loss as module_loss\n",
    "import model.metric as module_metric\n",
    "\n",
    "from parse_config import ConfigParser\n",
    "from runner import Trainer\n",
    "from utils import prepare_device, reset_device, fix_random_seed"
   ]
  },
  {
   "cell_type": "code",
   "execution_count": 7,
   "id": "abb2d0c3",
   "metadata": {},
   "outputs": [],
   "source": [
    "# fix random seeds for reproducibility\n",
    "# SEED = 123\n",
    "# torch.manual_seed(SEED)\n",
    "# torch.backends.cudnn.deterministic = True\n",
    "# torch.backends.cudnn.benchmark = False\n",
    "# np.random.seed(SEED)\n",
    "fix_random_seed()"
   ]
  },
  {
   "cell_type": "code",
   "execution_count": 13,
   "id": "bec9db14-a705-4fbf-91c2-a38ab332cd21",
   "metadata": {},
   "outputs": [],
   "source": [
    "def ray_tune(config, train_config):\n",
    "    logger = train_config.get_logger('train')\n",
    "    \n",
    "    # setup data_loader instances\n",
    "    if 'trsfm' in train_config['data_loader']['args'].keys():\n",
    "        tf_list = []\n",
    "        for k, v in train_config['data_loader']['args']['trsfm'].items():\n",
    "            if v is None: tf_list.append(getattr(module_transforms, k)())\n",
    "            else: tf_list.append(getattr(module_transforms, k)(**v))\n",
    "        train_config['data_loader']['args']['trsfm'] = transforms.Compose(tf_list)\n",
    "    ''' raytune '''\n",
    "    if 'batch_size' in config.keys():\n",
    "        train_config['data_loader']['args']['batch_size'] = config['batch_size']\n",
    "    train_data_loader = train_config.init_obj('data_loader', module_data, **{'mode':'train'}).dataloader\n",
    "    valid_data_loader = train_config.init_obj('data_loader', module_data, **{'mode':'valid'}).dataloader\n",
    "\n",
    "    # build model architecture, then print to console\n",
    "    classes = train_data_loader.dataset.classes\n",
    "    ''' raytune '''\n",
    "    if 'dropout' in config.keys():\n",
    "        train_config['arch']['args']['drop_rate'] = config['dropout']\n",
    "    model = train_config.init_obj('arch', module_arch)\n",
    "    \n",
    "    # prepare for (multi-device) GPU training\n",
    "    device, device_ids = prepare_device(train_config['n_gpu'])\n",
    "    model = model.to(device)\n",
    "    if len(device_ids) > 1: model = torch.nn.DataParallel(model, device_ids=device_ids)\n",
    "\n",
    "    # get function handles of loss and metrics\n",
    "    ''' raytune '''\n",
    "    # criterion = getattr(module_loss, train_config['loss'])\n",
    "    if 'loss' in config.keys(): criterion = getattr(module_loss, config['loss'])\n",
    "    else: criterion = getattr(module_loss, train_config['loss'])\n",
    "    metrics = [getattr(module_metric, met) for met in train_config['metrics'].keys()]    \n",
    "        \n",
    "    # build optimizer, learning rate scheduler. delete every lines containing lr_scheduler for disabling scheduler\n",
    "    trainable_params = filter(lambda p: p.requires_grad, model.parameters())\n",
    "    ''' raytune '''\n",
    "    if 'otimp' in config.keys():\n",
    "        train_config['optimizer']['type'] = config['otimp']\n",
    "    if 'lr' in config.keys():\n",
    "        train_config['optimizer']['args']['lr'] = config['lr']\n",
    "    if 'weight_decay' in config.keys():\n",
    "        train_config['optimizer']['args']['weight_decay'] = config['weight_decay']\n",
    "    \n",
    "    optimizer = train_config.init_obj('optimizer', module_optim, trainable_params)\n",
    "    \n",
    "    lr_scheduler = None\n",
    "    if 'lr_scheduler' in train_config.config.keys():\n",
    "        lr_scheduler = train_config.init_obj('lr_scheduler', module_lr_scheduler, optimizer)\n",
    "    if lr_scheduler is None: print('lr_scheduler is not set.\\n')\n",
    "\n",
    "    ''' raytune '''\n",
    "    train_config['trainer']['epochs'] = MAXEPOCHS\n",
    "    train_config['trainer']['early_stop'] = MAXEPOCHS\n",
    "    train_config['trainer']['tensorboard'] = False\n",
    "    train_config['trainer']['tensorboard_projector']['train'] = False\n",
    "    train_config['trainer']['tensorboard_projector']['valid'] = False\n",
    "    train_config['trainer']['tensorboard_pred_plot'] = False\n",
    "    train_config['trainer']['save_performance_plot'] = True\n",
    "\n",
    "    train_kwargs = {\n",
    "        'model': model,\n",
    "        'criterion': criterion,\n",
    "        'metric_ftns': metrics,\n",
    "        'plottable_metric_ftns': None,\n",
    "        'optimizer': optimizer,\n",
    "        'lr_scheduler': lr_scheduler,\n",
    "        'config': train_config,\n",
    "        'classes': classes,\n",
    "        'device': device,\n",
    "        'data_loader': train_data_loader,\n",
    "        'valid_data_loader': valid_data_loader,\n",
    "        'da_ftns': None,\n",
    "        'raytune':True\n",
    "    }\n",
    "    trainer = Trainer(**train_kwargs)\n",
    "\n",
    "    trainer.train()\n",
    "\n",
    "    # print the model infomation\n",
    "    # Option. Use after training because data flows into the model and calculates it\n",
    "    use_data = next(iter(train_data_loader))[0].to(device)\n",
    "    input_size = use_data.shape\n",
    "    logger.info('\\nInput_size: {}'.format(input_size))\n",
    "    model_info = str(summary(model, input_size=input_size, verbose=0))\n",
    "    logger.info('{}\\n'.format(model_info))\n",
    "\n",
    "    reset_device('cache')"
   ]
  },
  {
   "cell_type": "code",
   "execution_count": 9,
   "id": "e3c82a99-0edf-4257-b9c1-e952ef3c2c4a",
   "metadata": {},
   "outputs": [
    {
     "name": "stdout",
     "output_type": "stream",
     "text": [
      "setting epoch: 100\n"
     ]
    }
   ],
   "source": [
    "args = argparse.ArgumentParser(description='PyTorch Template')\n",
    "args.add_argument('-c', '--config', default=config_path, type=str, help='config file path (default: None)')\n",
    "args.add_argument('-r', '--resume', default=None, type=str, help='path to latest checkpoint (default: None)')\n",
    "args.add_argument('-d', '--device', default='0, 1', type=str, help='indices of GPUs to enable (default: all)')\n",
    "args.add_argument('-t', '--test', default=False, type=bool, help='Whether to enable test mode (default: False)')\n",
    "\n",
    "# custom cli options to modify configuration from default values given in json file.\n",
    "CustomArgs = collections.namedtuple('CustomArgs', 'flags type target')\n",
    "options = [\n",
    "    CustomArgs(['--lr', '--learning_rate'], type=float, target='optimizer;args;lr'),\n",
    "    CustomArgs(['--bs', '--batch_size'], type=int, target='data_loader;args;batch_size')\n",
    "]\n",
    "train_config = ConfigParser.from_args(args, options)\n",
    "print(f\"setting epoch: {train_config['trainer']['epochs']}\")"
   ]
  },
  {
   "cell_type": "code",
   "execution_count": 10,
   "id": "95905722-4285-41c4-8412-a12faa7bf8e5",
   "metadata": {},
   "outputs": [],
   "source": [
    "scheduler = ASHAScheduler(\n",
    "    metric=\"BACC\",\n",
    "    mode=\"max\",\n",
    "    max_t=MAXEPOCHS,\n",
    "    grace_period=1,\n",
    "    reduction_factor=2,\n",
    ")"
   ]
  },
  {
   "cell_type": "code",
   "execution_count": null,
   "id": "dd148d43-f459-4a8d-9f1a-359c5fbd6b6a",
   "metadata": {
    "tags": []
   },
   "outputs": [],
   "source": [
    "result = raytune.run(\n",
    "    partial(ray_tune, train_config=train_config),\n",
    "    resources_per_trial=resources_per_trial,\n",
    "    config=ray_tune_config,\n",
    "    num_samples=raytune_trial_num,\n",
    "    scheduler=scheduler,\n",
    "    storage_path=tmp_dir)"
   ]
  },
  {
   "cell_type": "code",
   "execution_count": null,
   "id": "1649607d-4791-4db9-9e18-1b3e9e6c9744",
   "metadata": {},
   "outputs": [],
   "source": [
    "best_trial = result.get_best_trial(\"BACC\", \"max\", \"last\")\n",
    "# best_trial\n",
    "\n",
    "print(f\"Best trial config: {best_trial.config}\")\n",
    "print(f\"Best trial final validation loss: {best_trial.last_result['loss']}\")\n",
    "print(f\"Best trial final validation Baccuracy: {best_trial.last_result['BACC']}\")"
   ]
  }
 ],
 "metadata": {
  "kernelspec": {
   "display_name": "one",
   "language": "python",
   "name": "one"
  },
  "language_info": {
   "codemirror_mode": {
    "name": "ipython",
    "version": 3
   },
   "file_extension": ".py",
   "mimetype": "text/x-python",
   "name": "python",
   "nbconvert_exporter": "python",
   "pygments_lexer": "ipython3",
   "version": "3.10.12"
  },
  "widgets": {
   "application/vnd.jupyter.widget-state+json": {
    "state": {},
    "version_major": 2,
    "version_minor": 0
   }
  }
 },
 "nbformat": 4,
 "nbformat_minor": 5
}
